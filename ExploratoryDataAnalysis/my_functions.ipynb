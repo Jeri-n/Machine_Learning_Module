{
 "cells": [
  {
   "cell_type": "code",
   "execution_count": 1,
   "metadata": {},
   "outputs": [],
   "source": [
    "#importing basic libraries\n",
    "import pandas as pd\n",
    "import numpy as np\n",
    "import seaborn as sns\n",
    "import matplotlib.pyplot as plt\n",
    "%matplotlib inline"
   ]
  },
  {
   "cell_type": "code",
   "execution_count": 4,
   "metadata": {},
   "outputs": [],
   "source": [
    "# loading datasets\n",
    "df = pd.read_csv('ZomatoDataset/zomato.csv',encoding='latin-1')\n"
   ]
  },
  {
   "cell_type": "code",
   "execution_count": 5,
   "metadata": {},
   "outputs": [
    {
     "name": "stdout",
     "output_type": "stream",
     "text": [
      "The column name Cuisines has 9 missing values\n"
     ]
    }
   ],
   "source": [
    "# forloop for checking missing vales col by col\n",
    "\n",
    "for features in df.columns:\n",
    "    if df[features].isnull().sum()>0:\n",
    "        print(\"The column name\",features,\"has\",df[features].isnull().sum(),\"missing values\")"
   ]
  },
  {
   "cell_type": "code",
   "execution_count": 6,
   "metadata": {},
   "outputs": [
    {
     "data": {
      "text/plain": [
       "['Cuisines']"
      ]
     },
     "execution_count": 6,
     "metadata": {},
     "output_type": "execute_result"
    }
   ],
   "source": [
    "[features for features in df.columns if df[features].isnull().sum()>0]"
   ]
  },
  {
   "cell_type": "code",
   "execution_count": null,
   "metadata": {},
   "outputs": [],
   "source": [
    "def missing_value_imputation(data,fill_value,fill_type,columns):\n",
    "    print('Missing values before Treatment is \\n',data.isna().sum())\n",
    "\n",
    "    for column in columns:\n",
    "\n",
    "        if 'median replacement' in fill_type:\n",
    "            median=data[column].median()\n",
    "            data[column].fillna(median,inplace=True)\n",
    "\n",
    "        if 'Random sample imputation' in fill_type:\n",
    "            random_samples=data[column].dropna().sample(data[column].isna().sum(),random_state=0,replace=True)\n",
    "            random_samples.index=data[data[column].isna()].index\n",
    "            data.loc[data[column].isnull()] =random_samples\t\n",
    "\n",
    "\n",
    "        if 'New feature importance' in fill_type:\n",
    "            np.where(data[column].isna(),1,0,inplace=True)\n",
    "            data[column].fillna(median,inplace=True)\n",
    "\n",
    "\n",
    "        if 'mode_fill' in fill_type:\n",
    "            mod=data[column].mode()[0]\n",
    "            data[column].fillna(mod,inplace=True)\n",
    "\n",
    "        if 'End of distribution imputation' in fill_type:\n",
    "            extreme = data[column].mean()+3*(data[column].std())\n",
    "            data[column].fillna(extreme,inplace=True)\n",
    "            \n",
    "\n",
    "        if 'value fill' in fill_type:\n",
    "            data[column].fillna(fill_value,inplace=True)\n",
    "\n",
    "    print('Missing values After Treatment is \\n',data.isna().sum())\n",
    "\n",
    "    return(data)\n",
    "\n"
   ]
  },
  {
   "cell_type": "code",
   "execution_count": null,
   "metadata": {},
   "outputs": [],
   "source": [
    "  # checking for outliers - boxplots\n",
    "\n",
    "\n",
    "  \n",
    "\n",
    "def boxplots(data):\n",
    "    for feature in data.columns:\n",
    "        plt.figure(figsize=(10,1))\n",
    "        if data[feature].dtype !='object':\n",
    "            sns.boxplot(data[feature],data=data)\n",
    "        else:\n",
    "            print(feature,'is an object')\n",
    "\n",
    " "
   ]
  }
 ],
 "metadata": {
  "interpreter": {
   "hash": "dc07d24e2f18896857f0b2a651fe84ba40ce7b297e58d8804a308c8039f752a6"
  },
  "kernelspec": {
   "display_name": "Python 3.9.7 ('base')",
   "language": "python",
   "name": "python3"
  },
  "language_info": {
   "codemirror_mode": {
    "name": "ipython",
    "version": 3
   },
   "file_extension": ".py",
   "mimetype": "text/x-python",
   "name": "python",
   "nbconvert_exporter": "python",
   "pygments_lexer": "ipython3",
   "version": "3.9.7"
  },
  "orig_nbformat": 4
 },
 "nbformat": 4,
 "nbformat_minor": 2
}
